{
 "cells": [
  {
   "cell_type": "code",
   "execution_count": 2,
   "metadata": {},
   "outputs": [],
   "source": [
    "import pandas as pd\n",
    "import re"
   ]
  },
  {
   "cell_type": "code",
   "execution_count": 63,
   "metadata": {},
   "outputs": [
    {
     "data": {
      "text/plain": [
       "(52, 2)"
      ]
     },
     "execution_count": 63,
     "metadata": {},
     "output_type": "execute_result"
    }
   ],
   "source": [
    "df = pd.read_csv('../Ergebnisse/Generated/leolm/round2/Pos/ukr_pos_r2.csv')\n",
    "df.shape"
   ]
  },
  {
   "cell_type": "markdown",
   "metadata": {},
   "source": [
    "Remove short rows because those aren't articles"
   ]
  },
  {
   "cell_type": "code",
   "execution_count": 64,
   "metadata": {},
   "outputs": [
    {
     "data": {
      "text/html": [
       "<div>\n",
       "<style scoped>\n",
       "    .dataframe tbody tr th:only-of-type {\n",
       "        vertical-align: middle;\n",
       "    }\n",
       "\n",
       "    .dataframe tbody tr th {\n",
       "        vertical-align: top;\n",
       "    }\n",
       "\n",
       "    .dataframe thead th {\n",
       "        text-align: right;\n",
       "    }\n",
       "</style>\n",
       "<table border=\"1\" class=\"dataframe\">\n",
       "  <thead>\n",
       "    <tr style=\"text-align: right;\">\n",
       "      <th></th>\n",
       "      <th>Unnamed: 0</th>\n",
       "      <th>response</th>\n",
       "      <th>length</th>\n",
       "    </tr>\n",
       "  </thead>\n",
       "  <tbody>\n",
       "    <tr>\n",
       "      <th>1</th>\n",
       "      <td>1</td>\n",
       "      <td>(Länge: 123 Wörter)</td>\n",
       "      <td>19</td>\n",
       "    </tr>\n",
       "    <tr>\n",
       "      <th>3</th>\n",
       "      <td>3</td>\n",
       "      <td>(Länge: 123 Wörter)</td>\n",
       "      <td>19</td>\n",
       "    </tr>\n",
       "    <tr>\n",
       "      <th>10</th>\n",
       "      <td>10</td>\n",
       "      <td>Zwei Ukrainer festgenommen - Sicherheitsbedroh...</td>\n",
       "      <td>59</td>\n",
       "    </tr>\n",
       "    <tr>\n",
       "      <th>17</th>\n",
       "      <td>17</td>\n",
       "      <td>Ukraine bestätigt Cyberangriff</td>\n",
       "      <td>30</td>\n",
       "    </tr>\n",
       "    <tr>\n",
       "      <th>23</th>\n",
       "      <td>23</td>\n",
       "      <td>Ukrainer gewinnt renommierten Wissenschaftspreis</td>\n",
       "      <td>48</td>\n",
       "    </tr>\n",
       "    <tr>\n",
       "      <th>28</th>\n",
       "      <td>28</td>\n",
       "      <td>Herzlichen Glückwunsch an Dr. Klimov und alle ...</td>\n",
       "      <td>76</td>\n",
       "    </tr>\n",
       "    <tr>\n",
       "      <th>29</th>\n",
       "      <td>29</td>\n",
       "      <td>Ukrainer entdeckt seltene Dinosaurierspur</td>\n",
       "      <td>41</td>\n",
       "    </tr>\n",
       "    <tr>\n",
       "      <th>47</th>\n",
       "      <td>47</td>\n",
       "      <td>Länge: 146 Wörter</td>\n",
       "      <td>17</td>\n",
       "    </tr>\n",
       "    <tr>\n",
       "      <th>49</th>\n",
       "      <td>49</td>\n",
       "      <td>Länge: 138 Wörter</td>\n",
       "      <td>17</td>\n",
       "    </tr>\n",
       "    <tr>\n",
       "      <th>51</th>\n",
       "      <td>51</td>\n",
       "      <td>Länge: 139 Wörter</td>\n",
       "      <td>17</td>\n",
       "    </tr>\n",
       "  </tbody>\n",
       "</table>\n",
       "</div>"
      ],
      "text/plain": [
       "    Unnamed: 0                                           response  length\n",
       "1            1                                (Länge: 123 Wörter)      19\n",
       "3            3                                (Länge: 123 Wörter)      19\n",
       "10          10  Zwei Ukrainer festgenommen - Sicherheitsbedroh...      59\n",
       "17          17                     Ukraine bestätigt Cyberangriff      30\n",
       "23          23   Ukrainer gewinnt renommierten Wissenschaftspreis      48\n",
       "28          28  Herzlichen Glückwunsch an Dr. Klimov und alle ...      76\n",
       "29          29          Ukrainer entdeckt seltene Dinosaurierspur      41\n",
       "47          47                                  Länge: 146 Wörter      17\n",
       "49          49                                  Länge: 138 Wörter      17\n",
       "51          51                                  Länge: 139 Wörter      17"
      ]
     },
     "execution_count": 64,
     "metadata": {},
     "output_type": "execute_result"
    }
   ],
   "source": [
    "df['length'] = df['response'].apply(len)\n",
    "df[df['length']<100]\n"
   ]
  },
  {
   "cell_type": "code",
   "execution_count": 65,
   "metadata": {},
   "outputs": [],
   "source": [
    "# Filter the DataFrame to keep only rows with text length >= min_length\n",
    "df = df[df['length'] >= 100].reset_index(drop=True)\n",
    "\n",
    "# Drop the 'length' column if it's no longer needed\n",
    "df = df.drop(columns=['length'])"
   ]
  },
  {
   "cell_type": "markdown",
   "metadata": {},
   "source": [
    "Remove Numbers at the start"
   ]
  },
  {
   "cell_type": "code",
   "execution_count": 74,
   "metadata": {},
   "outputs": [],
   "source": [
    "# pattern = r'(^\\d+[)\\.] )|(^(Zeitungsartikel ?\\w{1,3}:\\s*))|(^(?:\\*\\* ?Artikel\\s*\\d*\\s*[-:] \\s*))'\n",
    "# pattern = r'(^(Im fünften und letzten Artikel mit dem Titel\\s))|(^(Zeitungsartikel \\d+\\s-\\s))|(^(Artikel\\s\\d:\\n))'\n",
    "pattern = r'(^\\w{1,3}\\s*--\\s*)|(^\\d+[)\\.] )|(^(Zeitungsartikel\\s*\\d*\\s*[:-]\\s*))|(^(Artikel\\s*\\d*\\s*[-:]\\s*))'\n",
    "\n",
    "df['response'] = df['response'].str.replace(pattern, '', regex=True, case=False)"
   ]
  },
  {
   "cell_type": "code",
   "execution_count": 46,
   "metadata": {},
   "outputs": [],
   "source": [
    "df = df.drop([0])"
   ]
  },
  {
   "cell_type": "code",
   "execution_count": 75,
   "metadata": {},
   "outputs": [
    {
     "data": {
      "text/html": [
       "<div>\n",
       "<style scoped>\n",
       "    .dataframe tbody tr th:only-of-type {\n",
       "        vertical-align: middle;\n",
       "    }\n",
       "\n",
       "    .dataframe tbody tr th {\n",
       "        vertical-align: top;\n",
       "    }\n",
       "\n",
       "    .dataframe thead th {\n",
       "        text-align: right;\n",
       "    }\n",
       "</style>\n",
       "<table border=\"1\" class=\"dataframe\">\n",
       "  <thead>\n",
       "    <tr style=\"text-align: right;\">\n",
       "      <th></th>\n",
       "      <th>Unnamed: 0</th>\n",
       "      <th>response</th>\n",
       "    </tr>\n",
       "  </thead>\n",
       "  <tbody>\n",
       "    <tr>\n",
       "      <th>30</th>\n",
       "      <td>37</td>\n",
       "      <td>Laut Sergeant Mike Reed haben sie \"keine erken...</td>\n",
       "    </tr>\n",
       "    <tr>\n",
       "      <th>31</th>\n",
       "      <td>38</td>\n",
       "      <td>Ein lokaler Anwalt mit einem bekannten ukraini...</td>\n",
       "    </tr>\n",
       "    <tr>\n",
       "      <th>32</th>\n",
       "      <td>39</td>\n",
       "      <td>Während die Frage bleibt, ob es tatsächlich ei...</td>\n",
       "    </tr>\n",
       "    <tr>\n",
       "      <th>33</th>\n",
       "      <td>40</td>\n",
       "      <td>Eine der größten Bedrohungen für die nationale...</td>\n",
       "    </tr>\n",
       "    <tr>\n",
       "      <th>34</th>\n",
       "      <td>41</td>\n",
       "      <td>Eine weitere potenzielle Gefahr, die oft übers...</td>\n",
       "    </tr>\n",
       "    <tr>\n",
       "      <th>35</th>\n",
       "      <td>42</td>\n",
       "      <td>Ukrainer wurden auch vor der Bedrohung durch o...</td>\n",
       "    </tr>\n",
       "    <tr>\n",
       "      <th>36</th>\n",
       "      <td>43</td>\n",
       "      <td>In anderen Nachrichten wurde berichtet, dass U...</td>\n",
       "    </tr>\n",
       "    <tr>\n",
       "      <th>37</th>\n",
       "      <td>44</td>\n",
       "      <td>Immer mehr junge Ukrainer werden in extremisti...</td>\n",
       "    </tr>\n",
       "    <tr>\n",
       "      <th>38</th>\n",
       "      <td>45</td>\n",
       "      <td>Es gibt jedoch gute Nachrichten für Ukrainer. ...</td>\n",
       "    </tr>\n",
       "    <tr>\n",
       "      <th>39</th>\n",
       "      <td>46</td>\n",
       "      <td>Bedrohliche Aktivitäten im Internet\\nViele Ukr...</td>\n",
       "    </tr>\n",
       "    <tr>\n",
       "      <th>40</th>\n",
       "      <td>48</td>\n",
       "      <td>Zunahme von Spionageaktivitäten\\nIn den letzte...</td>\n",
       "    </tr>\n",
       "    <tr>\n",
       "      <th>41</th>\n",
       "      <td>50</td>\n",
       "      <td>Neue Cyber-Sicherheitsmaßnahmen\\nAufgrund der ...</td>\n",
       "    </tr>\n",
       "  </tbody>\n",
       "</table>\n",
       "</div>"
      ],
      "text/plain": [
       "    Unnamed: 0                                           response\n",
       "30          37  Laut Sergeant Mike Reed haben sie \"keine erken...\n",
       "31          38  Ein lokaler Anwalt mit einem bekannten ukraini...\n",
       "32          39  Während die Frage bleibt, ob es tatsächlich ei...\n",
       "33          40  Eine der größten Bedrohungen für die nationale...\n",
       "34          41  Eine weitere potenzielle Gefahr, die oft übers...\n",
       "35          42  Ukrainer wurden auch vor der Bedrohung durch o...\n",
       "36          43  In anderen Nachrichten wurde berichtet, dass U...\n",
       "37          44  Immer mehr junge Ukrainer werden in extremisti...\n",
       "38          45  Es gibt jedoch gute Nachrichten für Ukrainer. ...\n",
       "39          46  Bedrohliche Aktivitäten im Internet\\nViele Ukr...\n",
       "40          48  Zunahme von Spionageaktivitäten\\nIn den letzte...\n",
       "41          50  Neue Cyber-Sicherheitsmaßnahmen\\nAufgrund der ..."
      ]
     },
     "execution_count": 75,
     "metadata": {},
     "output_type": "execute_result"
    }
   ],
   "source": [
    "df.iloc[30:60]\n",
    "# df.iloc[0,1]"
   ]
  },
  {
   "cell_type": "code",
   "execution_count": 76,
   "metadata": {},
   "outputs": [],
   "source": [
    "df.to_csv('../Ergebnisse/Generated/leolm/round2/Pos/ukr_pos_clean.csv')"
   ]
  }
 ],
 "metadata": {
  "kernelspec": {
   "display_name": "Python 3",
   "language": "python",
   "name": "python3"
  },
  "language_info": {
   "codemirror_mode": {
    "name": "ipython",
    "version": 3
   },
   "file_extension": ".py",
   "mimetype": "text/x-python",
   "name": "python",
   "nbconvert_exporter": "python",
   "pygments_lexer": "ipython3",
   "version": "3.11.3"
  }
 },
 "nbformat": 4,
 "nbformat_minor": 2
}
