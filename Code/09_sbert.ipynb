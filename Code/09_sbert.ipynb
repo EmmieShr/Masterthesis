{
 "cells": [
  {
   "cell_type": "code",
   "execution_count": 1,
   "metadata": {},
   "outputs": [
    {
     "name": "stderr",
     "output_type": "stream",
     "text": [
      "/Library/Frameworks/Python.framework/Versions/3.11/lib/python3.11/site-packages/sentence_transformers/cross_encoder/CrossEncoder.py:11: TqdmWarning: IProgress not found. Please update jupyter and ipywidgets. See https://ipywidgets.readthedocs.io/en/stable/user_install.html\n",
      "  from tqdm.autonotebook import tqdm, trange\n"
     ]
    }
   ],
   "source": [
    "import pandas as pd\n",
    "from sentence_transformers import SentenceTransformer\n",
    "import numpy as np"
   ]
  },
  {
   "cell_type": "code",
   "execution_count": 66,
   "metadata": {},
   "outputs": [
    {
     "data": {
      "text/plain": [
       "(42, 3)"
      ]
     },
     "execution_count": 66,
     "metadata": {},
     "output_type": "execute_result"
    }
   ],
   "source": [
    "df = pd.read_csv('../Ergebnisse/Generated/leolm/round2/Pos/ukr_pos_clean.csv')\n",
    "df.shape"
   ]
  },
  {
   "cell_type": "code",
   "execution_count": 120,
   "metadata": {},
   "outputs": [],
   "source": [
    "df1 = pd.read_csv('../Samples/Full Samples/sample1_full.csv')\n",
    "df2 = pd.read_csv('../Samples/Full Samples/sample2_full.csv')\n",
    "df3 = pd.read_csv('../Samples/Full Samples/sample3_full.csv')\n",
    "df4 = pd.read_csv('../Samples/Full Samples/sample4_full.csv')\n",
    "df5 = pd.read_csv('../Samples/Full Samples/sample5_full.csv')\n",
    "df6 = pd.read_csv('../Samples/Full Samples/sample6_full.csv')\n",
    "df7 = pd.read_csv('../Samples/Full Samples/sample7_full.csv')\n",
    "df8 = pd.read_csv('../Samples/Full Samples/sample8_full.csv')\n",
    "df9 = pd.read_csv('../Samples/Full Samples/sample9_full.csv')\n",
    "df10 = pd.read_csv('../Samples/Full Samples/sample10_full.csv')\n",
    "df11 = pd.read_csv('../Samples/Full Samples/sample11_full.csv')\n",
    "df12 = pd.read_csv('../Samples/Full Samples/sample12_full.csv')\n",
    "df13 = pd.read_csv('../Samples/Full Samples/sample13_full.csv')\n",
    "df14 = pd.read_csv('../Samples/Full Samples/sample14_full.csv')\n",
    "df15 = pd.read_csv('../Samples/Full Samples/sample15_full.csv')\n",
    "df16 = pd.read_csv('../Samples/Full Samples/sample16_full.csv')\n",
    "df17 = pd.read_csv('../Samples/Full Samples/sample17_full.csv')\n",
    "df18 = pd.read_csv('../Samples/Full Samples/sample18_full.csv')\n",
    "df19 = pd.read_csv('../Samples/Full Samples/sample19_full.csv')\n",
    "df20 = pd.read_csv('../Samples/Full Samples/sample20_full.csv')\n",
    "\n",
    "df_list = [globals()[f'df{i}'] for i in range(1, 21)]  \n",
    "dfs = pd.concat(df_list, axis=0)"
   ]
  },
  {
   "cell_type": "code",
   "execution_count": 138,
   "metadata": {},
   "outputs": [],
   "source": [
    "ids_to_keep = [\n",
    "'632712ab3dd49b919c1d8376',\n",
    "'6352df37b912504bf4008120',\n",
    "'632712873dd49b919c0ebf74',\n",
    "'639af14cb9db0b75f2008653',\n",
    "'632712953dd49b919c14acec',\n",
    "'639556ca51e2a7d1bb039d68',\n",
    "'6377ad93b44f9d9bb90966eb',\n",
    "'638e6acf6fcd0579950b6291',\n",
    "'63463c913d7357fc070be6f5',\n",
    "'6327129b3dd49b919c16ded8'\n",
    "]\n",
    "\n",
    "filtered_df = dfs[dfs['_id'].isin(ids_to_keep)]\n",
    "ex = filtered_df['sections'].to_list()"
   ]
  },
  {
   "cell_type": "code",
   "execution_count": 69,
   "metadata": {},
   "outputs": [],
   "source": [
    "mylist= [\n",
    "'Ukraine-Konflikt, Polen, Eindrücke aus Przemysl: Ukrainer erreichen den Bahnhof in Krakau. 7. März 2022. Im Krieg in der Ukraine sind nach Angaben des ukrainischen Verteidigungsministers Oleksij Resnikow bislang mindestens 38 Kinder durch russische Angriffe zu Tode gekommen. Insgesamt seien seit Kriegsbeginn Russlands über 400 Zivilisten getötet worden, so der Verteidigungsminister am Dienstag. Die Zahlen ließen sich indes nicht unabhängig überprüfen.', 'Insgesamt wurden seinen Angaben zufolge 400 Zivilisten getötet und mindestens 800 verletzt. Diese Daten seien jedoch „definitiv unvollständig“, sagte Resnikow. Die Zahlen unabhängig zu bestätigen, war zunächst nicht möglich. Zuletzt verifizierte das UN-Hochkommissariat für Menschenrechte 364 Tote Ukrainer im Zusammenhang russischer Angriffe, darunter 25 Kinder. Die tatsächlichen Zahlen lägen jedoch um einiges höher, vermutet die UN.',\n",
    "'Die Bundesregierung hat angedeutet, man werde ein mögliches Gesuch der spanischen Regierung zur Lieferung deutscher Leopard-Panzer an die Ukraine wohlwollend prüfen. Aber Panzerlieferungen könnten auch viel einfacher auf direktem Wege aus Deutschland in die Ukraine erfolgen, so Melnyk - wenn denn die Bundesregierung mitspiele: \"Die deutsche Industrie ist bereit, diese Waffensysteme sofort zu liefern. Sofort. Ohne Ringtäusche. Ohne Manöver. Ohne Umwege. Und wir können nicht verstehen, was auf dem Wege noch geschehen muss, wieso kein grünes Licht gegeben wird von der Ampelkoalition, oder vom Sicherheitsrat, oder vom Kanzleramt - denn davon hängt ab, wie viele Ukrainer heute und morgen und übermorgen sterben müssen.\"',\n",
    "'Nie war die Ukraine so gefährdet wie jetzt im Krieg mit Russland. Von internationalen Gratulanten wird vor allem erwartet, schwere Waffen zu liefern. Eine Ukrainerin steht auf einem zerstörten russischen Panzer Die Ukraine begeht heute ihren 31. Unabhängigkeitstag.', '\\nKiew Im Schatten des seit einem halben Jahr andauernden russischen Angriffskriegs begeht die Ukraine am Mittwoch ihren Nationalfeiertag. Der Unabhängigkeitstag sei ein wichtiges Datum für die Ukrainer und Ukrainerinnen „und damit leider auch für unseren Feind“, sagte Präsident Wolodimir Selenski. In Kiew herrschte Nervosität wegen befürchteter russischer Raketenangriffe auf große Städte. Selenskyj rief die Bevölkerung auf, sich an die Ausgangssperren zu halten und bei Luftalarm in Sicherheit zu bringen. „Denkt daran, wir sollen alle gemeinsam den Sieg erleben“, sagte er.', 'Zum Unabhängigkeitstag wurde in Kiew erwartet, dass noch weitere Länder neue Rüstungszusagen machen. Zu dem doppelt bedeutsamen Datum sendet die ARD ihre „Tagesthemen“ live (22.15 Uhr) aus Kiew, moderiert von Caren Miosga. Die Moderatorin habe in den vergangenen Tagen mit Ukrainerinnen und Ukrainern über deren Leben und das Überleben im Krieg gesprochen, teilte der NDR mit. Drehorte der Reportagereise waren Lwiw und Tscherniwzi sowie Kiew mit seinen Vororten Butscha, Moschtschun und Irpin.\\n',\n",
    "'Wir unterstützen die Ukrainer bei ihrem Freiheitskampf gegen den Aggressor Putin. Wir helfen Flüchtlingen, besonders den vielen Frauen und Kindern, wenn sie zu uns nach Deutschland kommen.', 'Wir sind für die Sanktionen gegen die russische Finanz-Elite und die Oligarchen, die Putin unterstützen. Niemand darf das unendliche Leid der Ukrainer gegen finanzielle Sorgen bei uns ausspielen. Aber: Auch die Bürger in Deutschland haben jetzt Hilfe nötig, damit die Folgen dieses Krieges sie nicht überfordern.',\n",
    "'Musik und Lieder spielen in der Ukraine eine große Bedeutung – insbesondere für das Nationalbewußtsein. Einer der bekanntesten Rockmusiker der Ukraine, Oleg Skrypka, unterstreicht dies im Interview mit der JUNGEN FREIHEIT. Skrypka wurde 1964 in Ghafurow (Tadschikistan) geboren. Sein Vater ist Ukrainer, seine Mutter Russin. Nach dem Abitur gründete er noch zu Sowjetzeiten 1986 in Kiew die Rockband „Vopli Vidopliassova“. Die Musik ist eine Mischung aus Rock’n’Roll und Ethno-Folk, vereint Elemente aus Punk, Heavy Metal und Elektro-Pop. Mit seinem Sohn Ustym nahm er 2021 ein 100 Jahre altes patriotisches Lied („Wir wachsen“) auf, das der Pfadfinder-Bewegung gewidmet ist. Das Musikvideo dazu hat seit Beginn des russischen Angriffs auf die Ukraine am 24. Februar 2022 enorme virale Verbreitung bekommen.', 'Bei diesen Songs war das anders. Ich denke, es ist normal für Künstler, ein besonderes Gefühl für die Zukunft zu haben. Mir jedenfalls standen viele der Probleme schon damals vor Augen, die wir heute mit Rußland haben. Deshalb habe ich all diese patriotischen Lieder eingespielt. „Jetzt ist große Solidarität unter Ukrainern wachgeworden“ Wie reagieren Ihre Musikerkollegen in der Ukraine auf den russischen Einmarsch? Helfen sie mit ihrer Kunst? Fliehen sie? Oder greifen sie zu den Waffen?', 'Skrypka: Momentan stehen wir alle noch unter Schock. Natürlich versuchen wir erst mal nur, uns zu verteidigen. Wir hoffen sehr, daß wir diesen Krieg möglichst schnell gewinnen. Erst danach stellt sich die Frage, was mit russischsprachigen Künstlern in der Ukraine passiert. Die meisten werden nach dem Krieg einfach auf ukrainisch weitermachen. Was mit der Minderheit passiert, die es sich nicht anders überlegen will, weiß ich nicht. Vielleicht gehen die nach Europa. Eigentlich glaube ich aber nicht, daß die Frage der Sprache in der Ukraine wirklich so wichtig ist. Das wurde eher von der russischen Propaganda aufgebauscht. „Ukrainer schöpfen ihr Nationalbewußtsein aus ihrer Musik“ Welche Rolle spielen Musik und Lieder im ukrainischen Selbstverständnis?', 'Skrypka: Mir gefällt diese Frage sehr! Für Ukrainer war ihr Liedgut immer schon besonders wichtig. Über viele Jahrhunderte hatten die Ukrainer keinen eigenen Staat. Also mußten sie ihr nationales Selbstverständnis aus ihrer Musik schöpfen. Deshalb haben wir Ukrainer auch eine ganze Reihe traditioneller und moderner Volkslieder.', 'Skrypka: Unsere Geschichte und unsere Kultur reichen sehr weit zurück. In der Ukraine sind sich viele Menschen dessen nicht bewußt, aber wir leben in dieser Tradition. Daß unsere Kultur so tief in unserem Leben verwurzelt ist, hat sie letztendlich auch gerettet. Auch durch die 300 Jahre hindurch, in der wir Ukrainer keinen eigenen Staat hatten und von Rußland besetzt waren. Unsere Tradition hat uns mit unserem Land verbunden, ähnlich wie bei den Mexikanern, Chinesen und Indern. Diese Völker hatten aber ihren eigenen Staat, wir nicht. Wenn wir diesen Krieg gewinnen sollten, wäre das für uns also ein kompletter Neuanfang.', 'Skrypka: Die ganze Zeit der russischen Besatzung über – etwa 300 Jahre lang – gab es ukrainische Dissidenten. Das ist auch so eine Tradition von uns Ukrainern, eine Idee von unserem Land im Untergrund zu pflegen. Diese Idee bricht jetzt mit aller Kraft durch, daß wir endlich einen ukrainischen Staat bekommen.', 'Skrypka: Ukrainer wünschen sich von ihrer Zukunft, daß sie in einem modernen Land leben können, in dem sie frei sind. Sie träumen von einer Gesellschaft, die ihnen die Möglichkeit gibt, ihre Potentiale auszuschöpfen. Das Problem mit Rußland hat dabei nichts mit Sprache oder Nationalität zu tun. Ich habe russische Freunde aus Moskau, die trotzdem großartige ukrainische Patrioten sind. Die Frage ist doch, ob man dieses Land und diese Nation liebt. Und ich denke sogar, daß in der Zukunft viele Russen in die Ukraine kommen werden. Solange sie gerne hier leben und unserem Land etwas Gutes tun, habe ich absolut kein Problem damit.', 'Skrypka: Das ist eine heikle Frage (lacht). Ich weiß nicht, ich bin kein Politiker. Die Welt verändert sich. Während der ersten Revolution 2004 und nach 2014 haben die Ukrainer eine große Sehnsucht nach der europäischen Gemeinschaft verspürt. Es gibt jetzt die reale Möglichkeit für uns, in diese europäische Familie aufgenommen zu werden. Das ist sehr gut. Wir sehen aber auch, daß das alles nicht so einfach ist. Die Staaten der EU müssen sich erst einmal untereinander darauf einigen, uns eine Chance zu geben. Wir sind da nicht mehr so naiv wie in der Vergangenheit. Trotzdem wollen wir natürlich ein gutes Verhältnis zu allen europäischen Ländern haben. Das ist sehr wichtig für die Ukraine.', '„Dieser Krieg ist keine Privatsache zwischen Ukrainern und Russen“ Führt der Krieg in der Ukraine zu einer „zweiten Geburt einer Nation“, wie es Historiker nennen? Rückt das Land unter den Angriffen erst jetzt richtig zusammen? Erfahren viele Ukrainer im Moment wirklich, was es heißt, Teil einer Nation zu sein?', 'Skrypka: Sie haben schon die Antwort selbst gegeben (lacht noch lauter)! Wir Ukrainer erleben tatsächlich gerade die Wiedergeburt unserer Nation. Es fällt mir zwar schwer, das zu sagen, aber in gewisser Weise – so bitter das klingt – haben wir diesen Krieg gebraucht. Es ist, als ob Gott uns diese Katastrophe geschenkt hat, damit wir Ukrainer endlich Ukrainer werden. Ich möchte aber auch sagen, daß dieser Krieg nicht mehr einfach eine Privatsache zwischen Ukrainern und Russen ist. Wir fechten diesen Kampf gemeinsam mit Europäern, Japanern und Amerikanern aus. Die Russen leben immer noch in der Vergangenheit. Sie müssen ihre aggressive Art zu denken und zu handeln endlich aufgeben. Das ist einfach nicht menschlich. Und vielleicht geht es am Ende nicht nur um die Wiedergeburt der ukrainischen Nation, sondern um die Geburt einer neuen Gesellschaftsordnung weltweit.',\n",
    "' Die USA wollen als Teil eines neuen Militärhilfe-Pakets in Höhe von 1,85 Milliarden US-Dollar (1,74 Milliarden Euro) ein Patriot-Luftabwehrsystem in die Ukraine schicken, auch neue Munition wurde den Ukrainern versprochen. +++ Alle Entwicklungen zum Krieg gegen die Ukraine im Liveblog +++',\n",
    "' Szenen, die viele Ukrainerinnen und Ukrainer in Deutschland von ihren Familien und Freunden ebenso geschildert bekommen. „Ich bin heute morgen um 6 Uhr aufgewacht und habe sofort meine Familie in Kiew angerufen, weil ich ein ungutes Gefühl hatte“, erzählt Olena Shutovska. Sie und ihr Mann leben in Berlin, sind an diesem Vormittag zum Brandenburger Tor gekommen, um gemeinsam mit Hunderten anderen für die Unterstützung der Ukraine zu demonstrieren. „Wir mussten irgendetwas tun. Wir fühlen uns machtlos, können nicht helfen“, sagt die 29-Jährige.', 'Entsetzen, Angst und Wut sind die vorherrschenden Emotionen unter den Demonstranten. „Ihr seid alle in Gefahr. Ihr steht hier nicht nur für die Ukraine, sondern auch für Europa“, schallt durch ein Megafon. Drei junge Ukrainerinnen, die die Versammlung mit organisiert haben, verkünden ihre Statements nacheinander auf Ukrainisch, Englisch und Deutsch. Auch die ehemalige Grünen-Abgeordnete Marieluise Beck ergreift das Wort: „Es müssten hier auch mehr Deutsche stehen. Aber vielleicht kommt das noch, wenn sie anfangen zu verstehen.“', 'Auf Facebook vernetzen sich indes in Deutschland lebende Ukrainerinnen und Ukrainer, um zu helfen. In der Gruppe „Ukrainer in Berlin“ wird seit dem Morgen immer wieder nach Transportmöglichkeiten gefragt, ob Leute in die Ukraine fahren, ob man Familien herausbringen kann. Unter zahlreichen Beiträgen werden mazedonische, serbische, slowenische und polnische Handynummern gepostet, versehen mit Informationen, wie „kann morgen abgeholt werden“ oder „Igor heute Abend oder morgen“.',\n",
    "'Er vergleicht: „Napoleon, Hitler und Stalin mussten alle ihre Armeen angesichts des Winters in der Steppe in Bewegung halten, und jetzt – seine Invasion ist auf dem Rückzug – verschanzt Wladimir Putin seine Streitkräfte für den Winter, um auf eine neue russische Offensive im Frühjahr zu warten.“ Die Ukrainer seien aber „besser gerüstet und motiviert“ und würden den Druck im Donbass aufrechterhalten, glaubt der Analyst. Gut gerüstet: Ein ukrainischer Soldat posiert Winter-Unterstand an der Front bei Saporischschja. © IMAGO/Celestino Arce\\nIm Kampf mit Russland: Ex-US-General glaubt an militärischen Sieg der Ukraine',\n",
    "' Bei seinen beiden Besuchen in Kiew sei Johnson mit ihm durch die Straßen gelaufen und habe auch normale Ukrainerinnen und Ukrainer kennengelernt, schrieb Selenskyj. Wir haben sogar scherzhaft angefangen, ihn ‚Boris Johnsoniuk‘ zu nennen, was wie ein ukrainischer Nachname klingt...',\n",
    "'Zuletzt hatten russische Raketen- und Drohnenangriffe erhebliche Teile der ukrainischen Strom- und Wasserinfrastruktur zerstört. Mehrere Millionen Ukrainer haben seitdem jeden Tag nur stundenweise Strom. Vor diesem Hintergrund lieferte auch Deutschland im Oktober das Luftabwehrsystem Iris-T.'\n",
    "]"
   ]
  },
  {
   "cell_type": "code",
   "execution_count": 67,
   "metadata": {},
   "outputs": [],
   "source": [
    "sentences = df['response'].tolist()"
   ]
  },
  {
   "cell_type": "code",
   "execution_count": 68,
   "metadata": {},
   "outputs": [
    {
     "name": "stderr",
     "output_type": "stream",
     "text": [
      "/Library/Frameworks/Python.framework/Versions/3.11/lib/python3.11/site-packages/huggingface_hub/file_download.py:1132: FutureWarning: `resume_download` is deprecated and will be removed in version 1.0.0. Downloads always resume when possible. If you want to force a new download, use `force_download=True`.\n",
      "  warnings.warn(\n"
     ]
    }
   ],
   "source": [
    "model = SentenceTransformer(\"all-MiniLM-L6-v2\")"
   ]
  },
  {
   "cell_type": "code",
   "execution_count": 69,
   "metadata": {},
   "outputs": [
    {
     "name": "stdout",
     "output_type": "stream",
     "text": [
      "(42, 384)\n"
     ]
    }
   ],
   "source": [
    "embeddings = model.encode(sentences)\n",
    "print(embeddings.shape)"
   ]
  },
  {
   "cell_type": "code",
   "execution_count": 70,
   "metadata": {},
   "outputs": [
    {
     "name": "stdout",
     "output_type": "stream",
     "text": [
      "tensor([[1.0000, 0.3365, 0.2550,  ..., 0.4716, 0.3502, 0.1901],\n",
      "        [0.3365, 1.0000, 0.2605,  ..., 0.4387, 0.3471, 0.3390],\n",
      "        [0.2550, 0.2605, 1.0000,  ..., 0.3090, 0.3212, 0.4840],\n",
      "        ...,\n",
      "        [0.4716, 0.4387, 0.3090,  ..., 1.0000, 0.5106, 0.4564],\n",
      "        [0.3502, 0.3471, 0.3212,  ..., 0.5106, 1.0000, 0.3513],\n",
      "        [0.1901, 0.3390, 0.4840,  ..., 0.4564, 0.3513, 1.0000]])\n"
     ]
    }
   ],
   "source": [
    "similarities = model.similarity(embeddings, embeddings)\n",
    "print(similarities)"
   ]
  },
  {
   "cell_type": "code",
   "execution_count": 71,
   "metadata": {},
   "outputs": [
    {
     "name": "stdout",
     "output_type": "stream",
     "text": [
      "Sentence 1: \"Ukrainischer Militärexperte warnt vor möglicher russischer Invasion\"\n",
      "In einem kürzlichen Interview gab Colonel Olexander Shcherbatyi, ein Experte für militärische Angelegenheiten aus der Ukraine, bekannt, dass sein Land in den kommenden Monaten einer erhöhten Bedrohung durch eine russische Invasion ausgesetzt sein könnte. Der Colonel erklärte, dass es konkrete Beweise für einen Aufbau von Truppen an den Grenzen gebe und Russland mit großer Wahrscheinlichkeit versuchen würde, die Kontrolle über die Halbinsel Krim sowie die ostukrainischen Regionen Luhansk und Donezk zu erlangen. Er forderte seine Landsleute auf, wachsam zu bleiben und alles tun, was notwendig ist, um ihre Heimat zu verteidigen.\n",
      "Sentence 2: Die Ukrainische Armee bereitet sich auf erhöhte Spannungen mit Russland vor - 130 Wörter\n",
      "Trotz anhaltender Verhandlungen hat die Ukraine ihre militärischen Aktivitäten verstärkt, da die Spannungen mit Russland zunehmen. In einem kürzlich stattgefundenen Manöver zeigten die ukrainischen Streitkräfte ihre Fähigkeit zur Abwehr potenzieller Aggressionen, wobei eine Reihe moderner Waffen und Ausrüstung präsentiert wurde. Ein hochrangiger ukrainischer Beamter sagte, dass sein Land bereit ist, seine Souveränität und territoriale Integrität zu verteidigen. \"Wir nehmen die Bedrohungen durch Russland sehr ernst und sind entschlossen, unsere Bevölkerung und unser Territorium zu schützen\", erklärte der Beamte. Der stellvertretende russische Premierminister reagierte auf die Entwicklungen, indem er sagte, dass Kiews Handlungen \"nicht hilfreich\" seien.\n",
      "Similarity: 0.7504382133483887\n",
      "\n",
      "Sentence 1: UN warnt vor Konsequenzen der Eskalation der Ukraine-Spannungen - 128 Wörter\n",
      "Der Chef des UN-Peacekeeping-Abteilung hat davor gewarnt, dass eine weitere Eskalation der Ukraine-Spannungen negative Auswirkungen für die gesamte Region haben könnte. Der Diplomat betonte, dass Konflikte in der Ukraine immer direkte und indirekte Auswirkungen auf benachbarte Staaten sowie die breitere europäische Sicherheitsarchitektur haben würden. Er rief alle Parteien auf, Zurückhaltung zu üben und sich an Friedensgespräche zu beteiligen, um Risiken zu minimieren und Raum für diplomatische Lösungen zu öffnen. Das UN-Sekretariat wird weiterhin eng mit allen relevanten Parteien zusammenarbeiten, um Stabilität und Sicherheit in der Region zu fördern.\n",
      "Sentence 2: OSZE drängt auf Deeskalation in der Ukraine - 130 Wörter\n",
      "In einer kürzlichen Erklärung hat die Organisation für Sicherheit und Zusammenarbeit in Europa (OSZE) alle Seiten aufgerufen, angemessene Maßnahmen zur Deeskalation der Situation in der Ukraine zu ergreifen. Der leitende Chairman des OSZE Permanenten Council betonte, dass jeglicher Einsatz von Gewalt oder provozierendes Verhalten nur zu weiteren Komplikationen führen würde. Die OSZE setzt sich seit langem für die Stärkung der friedlichen Konfliktlösung sowie die Bewahrung und Wiederherstellung des Friedens ein. Die Organisation steht bereit, alle involvierten Parteien bei der Suche nach einer friedlichen und diplomatischen Lösung ihrer Differenzen zu unterstützen.\n",
      "Similarity: 0.7133082151412964\n",
      "\n",
      "Sentence 1: Paleontologen in der Ukraine haben die Entdeckung einer äußerst seltenen Dinosaurierspur angekündigt, die vor etwa 150 Millionen Jahren datiert wird. Die bemerkenswerte Abdruck wird aus einem versteinerten Schlamm bestehen, der vor 150 Millionen Jahren an der Oberfläche eines damaligen Sees abgelagert wurde.\n",
      "Sentence 2: Die Entdeckung dieses monumentalen Dinosauriers ergänzt die bereits reichhaltige Geschichte der Paläontologie in der Ukraine und wirft ein neues Licht auf die vielfältige und faszinierende Naturgeschichte dieser Region.\n",
      "Similarity: 0.7192132472991943\n",
      "\n",
      "Sentence 1: Die Entdeckung wurde vom Nationalmuseum für Paläontologie der Ukraine als wichtige Entwicklung in der Studie der Mesozoikumsära und der Evolution großer fleischfressender Theropoden bewertet. Weitere Studien und Datierungen sind im Gange, aber die ersten Analysen legen nahe, dass die Spur wahrscheinlich von einem großen fleischfressenden Dinosaurier stammt, der zu Lebzeiten neben dem Meeressediment ging.\n",
      "Sentence 2: Die Entdeckung dieses monumentalen Dinosauriers ergänzt die bereits reichhaltige Geschichte der Paläontologie in der Ukraine und wirft ein neues Licht auf die vielfältige und faszinierende Naturgeschichte dieser Region.\n",
      "Similarity: 0.7839443683624268\n",
      "\n",
      "4\n"
     ]
    }
   ],
   "source": [
    "data = sentences\n",
    "# Define similarity threshold\n",
    "threshold = 0.7\n",
    "\n",
    "similar_pairs = []\n",
    "num_sentences = len(data)\n",
    "\n",
    "for i in range(num_sentences):\n",
    "    for j in range(i + 1, num_sentences):\n",
    "        if similarities[i, j] > threshold:\n",
    "            similar_pairs.append((data[i], data[j], similarities[i, j]))\n",
    "\n",
    "for s1, s2, sim in similar_pairs:\n",
    "    print(f\"Sentence 1: {s1}\\nSentence 2: {s2}\\nSimilarity: {sim}\\n\")\n",
    "\n",
    "print(len(similar_pairs))\n"
   ]
  },
  {
   "cell_type": "markdown",
   "metadata": {},
   "source": [
    "Remove shorter sentence"
   ]
  },
  {
   "cell_type": "code",
   "execution_count": 72,
   "metadata": {},
   "outputs": [],
   "source": [
    "def remove_shorter_similar_texts(texts, similarity_matrix, threshold):\n",
    "    to_remove = set()\n",
    "    \n",
    "    for i in range(len(texts)):\n",
    "        for j in range(i + 1, len(texts)):\n",
    "            if similarity_matrix[i, j] > threshold:\n",
    "                if len(texts[i]) > len(texts[j]):\n",
    "                    to_remove.add(j)\n",
    "                else:\n",
    "                    to_remove.add(i)\n",
    "    \n",
    "    cleaned_texts = [text for idx, text in enumerate(texts) if idx not in to_remove]\n",
    "    return cleaned_texts\n",
    "\n",
    "cleaned_texts = remove_shorter_similar_texts(sentences, similarities, threshold)\n"
   ]
  },
  {
   "cell_type": "code",
   "execution_count": 73,
   "metadata": {},
   "outputs": [
    {
     "data": {
      "text/plain": [
       "39"
      ]
     },
     "execution_count": 73,
     "metadata": {},
     "output_type": "execute_result"
    }
   ],
   "source": [
    "len(cleaned_texts)"
   ]
  },
  {
   "cell_type": "code",
   "execution_count": 74,
   "metadata": {},
   "outputs": [],
   "source": [
    "newdf = pd.DataFrame(cleaned_texts, columns=['text'])\n",
    "newdf.to_csv('../Ergebnisse/Generated/leolm/round2/Pos/ukr_pos_v2_70t.csv')"
   ]
  },
  {
   "cell_type": "code",
   "execution_count": 53,
   "metadata": {},
   "outputs": [],
   "source": [
    "threshold = 0.70\n",
    "\n",
    "similar_pairs = []\n",
    "num_sentences = len(data)\n",
    "\n",
    "for i in range(num_sentences):\n",
    "    for j in range(i + 1, num_sentences):\n",
    "        if similarities[i, j] > threshold:\n",
    "            similar_pairs.append((i, j))\n",
    "\n",
    "sentences_to_remove = set()\n",
    "for i, j in similar_pairs:\n",
    "    sentences_to_remove.add(j)  \n",
    "\n",
    "filt = [data[i] for i in range(num_sentences) if i not in sentences_to_remove]\n",
    "\n",
    "# Display filtered sentences\n",
    "# print(\"Filtered sentences:\")\n",
    "# for sentence in filtered_sentences:\n",
    "#     print(sentence)"
   ]
  },
  {
   "cell_type": "code",
   "execution_count": 54,
   "metadata": {},
   "outputs": [
    {
     "data": {
      "text/plain": [
       "22"
      ]
     },
     "execution_count": 54,
     "metadata": {},
     "output_type": "execute_result"
    }
   ],
   "source": [
    "len(filt)"
   ]
  },
  {
   "cell_type": "code",
   "execution_count": 80,
   "metadata": {},
   "outputs": [],
   "source": [
    "l1 = mylist\n",
    "l2 = filt \n",
    "embeddings_l1 = model.encode(l1)\n",
    "embeddings_l2 = model.encode(l2)\n",
    "\n",
    "\n",
    "similarity_matrix = model.similarity(embeddings_l1, embeddings_l2)\n",
    "\n",
    "threshold = 0.7\n",
    "\n",
    "# Identify similar sentence pairs\n",
    "similar_pairs = []\n",
    "num_sentences_l1 = len(l1)\n",
    "num_sentences_l2 = len(l2)\n",
    "\n",
    "for i in range(num_sentences_l1):\n",
    "    for j in range(num_sentences_l2):\n",
    "        if similarity_matrix[i, j] > threshold:\n",
    "            similar_pairs.append((i, j))\n",
    "\n",
    "# Function to display similar pairs and choose which to delete\n",
    "def choose_sentence_to_delete(l1, l2, similar_pairs):\n",
    "    sentences_to_remove_from_l2 = set()\n",
    "    for i, j in similar_pairs:\n",
    "        print(f\"Similar Pair:\\n1: {l1[i]}\\n2: {l2[j]}\\n\")\n",
    "        choice = input(f\"Do you want to remove the sentence from list 2? (yes/no): \").strip().lower()\n",
    "        if choice == 'yes':\n",
    "            sentences_to_remove_from_l2.add(j)\n",
    "        elif choice == 'no':\n",
    "            continue\n",
    "        else:\n",
    "            print(\"Invalid input. Keeping the sentence from list 2.\")\n",
    "    return sentences_to_remove_from_l2\n"
   ]
  },
  {
   "cell_type": "code",
   "execution_count": 81,
   "metadata": {},
   "outputs": [
    {
     "data": {
      "text/plain": [
       "[(0, 37)]"
      ]
     },
     "execution_count": 81,
     "metadata": {},
     "output_type": "execute_result"
    }
   ],
   "source": [
    "similar_pairs"
   ]
  },
  {
   "cell_type": "code",
   "execution_count": 82,
   "metadata": {},
   "outputs": [
    {
     "name": "stdout",
     "output_type": "stream",
     "text": [
      "Similar Pair:\n",
      "1: Ukraine-Konflikt, Polen, Eindrücke aus Przemysl: Ukrainer erreichen den Bahnhof in Krakau. 7. März 2022. Im Krieg in der Ukraine sind nach Angaben des ukrainischen Verteidigungsministers Oleksij Resnikow bislang mindestens 38 Kinder durch russische Angriffe zu Tode gekommen. Insgesamt seien seit Kriegsbeginn Russlands über 400 Zivilisten getötet worden, so der Verteidigungsminister am Dienstag. Die Zahlen ließen sich indes nicht unabhängig überprüfen.\n",
      "2: Ukraine drängt auf stärkeren internationalen Handel\n",
      "Es besteht wenig Zweifel daran, dass der Kreml versucht, die Wirtschaft der Ukraine zu schwächen und ihre Fähigkeit zur Selbstverteidigung zu verringern. Dementsprechend betont Kiew, wie wichtig es ist, starke Handelsbeziehungen mit dem Westen aufzubauen und Verbindungen zu Russland zurückzufahren. Mehrere Handelsverträge stehen kurz vor dem Abschluss.\n",
      "\n",
      "\n",
      "Filtered sentences from list 2:\n",
      "Aktuelle Entwicklungen in der Ukraine: Trotz anhaltender Spannungen hat das ukrainische Militär kürzlich mehrere Erfolge gegen prorussische Rebellen im Osten des Landes gemeldet.\n",
      "Internationale Unterstützung: Der G7-Gipfel endete letzte Woche mit einem Bekenntnis zur Unterstützung der Ukraine, einschließlich finanzieller Hilfe für Reformen und Unterstützung beim Wiederaufbau der durch den Konflikt zerstörten Infrastruktur.\n",
      "Wirtschaftliche Herausforderungen: Die Ukraine steht vor enormen wirtschaftlichen Herausforderungen aufgrund des anhaltenden Konflikts. Der Internationale Währungsfonds hat kürzlich eine Vereinbarung über einen $17,5 Milliarden Rettungsschirm mit dem Land getroffen.\n",
      "Bilanz eines Jahres der Unruhen: Seit Ausbruch der Gewalt im Osten der Ukraine vor einem Jahr wurden mehr als 6.500 Menschen getötet und über eine halbe Million vertrieben. Obwohl es Hoffnungszeichen gibt, bleibt die Situation vor Ort volatil und unsicher.\n",
      "Krieg in der Ukraine - Zivilisten auf der Flucht\n",
      "Tausende Menschen haben ihre Häuser im Osten der Ukraine verlassen, da Regierungstruppen versuchen, zurückeroberte Gebiete zu halten und Rebellengebiete anzugreifen. Viele Zivilisten sind gezwungen, in überfüllten Schulen, Kirchen und anderen öffentlichen Gebäuden Schutz zu suchen. Einige Einwohner äußerten ihren Unmut gegenüber Kiew und Moskau für den Konflikt, der seit April 2014 tobt. Der Gouverneur des Gebiets Donezk sagte, dass bis zu 60.000 Menschen aufgrund der Kämpfe aus den Städten evakuiert wurden. Friedensverhandlungen zwischen den pro-russischen Rebellen und der ukrainischen Regierung fanden kürzlich statt, aber es gibt wenig Hoffnung auf eine schnelle Lösung. Die Situation bleibt tense und unsicher.\n",
      "Zwei Jahre Minsker Abkommen - Eine Bewertung\n",
      "Das Minsker Abkommen wurde vor zwei Jahren unterzeichnet mit dem Ziel, den Konflikt in der Ostukraine zu beenden. Das Abkommen sah einen Waffenstillstand, den Austausch von Gefangenen und eine Dezentralisierung der Macht in der Region vor. Es wurde jedoch von Kritikern befürchtet, dass es die Separatisten zu stark stärke. In den letzten Monaten haben beide Seiten erneut gekämpft, wobei die ukrainische Armee Fortschritte macht bei der Rückeroberung von Gebieten vom prorussischen Separatisten. Obwohl das Abkommen einige positive Ergebnisse gebracht hat, wie beispielsweise den Austausch von mehr als 1.300 Gefangenen, bleibt viel Arbeit, um den Konflikt vollständig zu lösen. Viele hoffen auf erhöhte Verhandlungsbemühungen und eine friedliche Lösung in naher Zukunft.\n",
      "Neue Sanktionen gegen Russland wegen Krim-Brücke\n",
      "Nach der Ankündigung von Plänen zur Errichtung einer Brücke von der russischen Küste zur annektierten Halbinsel Krim hat Washington neue Sanktionen gegen Moskau angekündigt. Diese kommen als Reaktion auf eine \"provokative Handlung\" Russlands, die Frieden und Stabilität in der Region untergraben würde. Der US-Sprecher bezeichnete die Brücke als \"expansionistischen Projekt\", das nur zum Zweck der Förderung der territorialen Ambitionen Moskaus diene. Der Schritt folgt einem jüngsten Vorstoß für harte Strafen gegen Russland, darunter Waffenlieferungen an die Ukraine und Maßnahmen gegen Moskauer Finanzinstitute und Einzelpersonen. Weitere Informationen deuten darauf hin, dass andere internationale Partner dem Beispiel der USA folgen werden, indem sie auch Sanktionen gegen Russland verhängen.\n",
      "Eurovision Song Contest kommt nach Kiew\n",
      "Der Eurovision Song Contest, der weltweit bekannteste Musikwettbewerb, wird nächstes Jahr in Kiew stattfinden. Die Ankündigung erfolgte, nachdem der ukrainische Sänger Jamala beim diesjährigen Wettbewerb in Stockholm gewonnen hatte. Der Wettbewerb zieht normalerweise Millionen von Zuschauern an und bietet einen seltenen Moment der internationalen Aufmerksamkeit. Als Reaktion auf die Entscheidung lobte der ukrainische Präsident Poroshenko den Eurovision Song Contest als Plattform, welche die Stimme des Landes inmitten des anhaltenden Konflikts mit Russland repräsentieren wird. Die Organisatoren sagen, dass der Wettbewerb trotz finanzieller Schwierigkeiten und Sicherheitsbedenken reibungslos verlaufen wird.\n",
      "Es tut mir leid, aber ich bin ein KI-Sprachmodell und habe keine Zugriffsrechte auf Websites oder andere externe Quellen. Es wäre daher unmöglich für mich, deinen Auftrag zu erfüllen, indem ich 5 Zeitungsartikel über die Ukraine erstelle. Ich kann jedoch Vorschläge machen, wie man einen guten Nachrichtsartikel verfasst, der den Vorgaben entspricht.\n",
      "In den letzten Wochen hat sich die Situation in der Ukraine drastisch verschlechtert, da der andauernde Konflikt im Osten des Landes zu einem Anstieg der Gewalt geführt hat. Als Folge haben zehntausende Menschen ihre Häuser verlassen und sind auf der Suche nach Sicherheit geflohen.\n",
      "Einheimische aus Gebieten in der Nähe der Frontlinien sagen, dass die Lage immer gefährlicher und unvorhersehbarer geworden ist, mit ständigen Berichten über Explosionen und Kämpfe in Städten und Dörfern. Infolgedessen haben viele Zivilisten beschlossen, dass es für sie am besten ist, ihre Heimat vorübergehend zu verlassen.\n",
      "Die Regierung in Kiew hat ihre Bemühungen verstärkt, um Unterstützung und Schutz für diejenigen bereitzustellen, die vertrieben wurden. Darunter fallen Maßnahmen wie die Bereitstellung von Lebensmittelhilfe und Unterkunft sowie die Organisation von Transportmitteln zur Evakuierung von Personen aus den am stärksten betroffenen Regionen.\n",
      "Es bleibt abzuwarten, wann der Konflikt enden wird und die Menschen in der Ukraine in der Lage sein werden, in ihre Häuser zurückzukehren. Bis dahin arbeiten Hilfsorganisationen daran, Unterstützung für diejenigen zu leisten, die am meisten bedürftig sind.\n",
      "Im anhaltenden Konflikt in der Ostukraine hat der ukrainische Präsident Petro Poroschenko Russland beschuldigt, einen \"aggressiven Akt\" begangen zu haben. Diese Anschuldigung kam kurz nachdem prorussische Separatisten eine ukrainische Militärbasis angegriffen hatten, wobei mindestens 13 Personen getötet wurden.\n",
      "Poroschenko erklärte, dass die Aktion eine \"erneute Aggression\" durch Russland darstelle und verurteilte die Handlungen der Separatisten als \"völkerrechtswidrig\". Er forderte auch eine sofortige internationale Reaktion auf die Eskalation der Gewalt.\n",
      "Der Vorfall ereignete sich nur wenige Tage nachdem Poroschenko und der russische Präsident Vladimir Putin vereinbart hatten, den Friedensprozess im Land wieder aufzunehmen. Beide Seiten haben sich seitdem bemüht, aufeinander zuzugehen, aber die jüngste Entwicklung wirft Zweifel an ihrer Fähigkeit auf, eine friedliche Lösung für den Konflikt zu finden.\n",
      "Westliche Führer haben ihre Besorgnis über die jüngste Eskalation der Gewalt zum Ausdruck gebracht, wobei einige eine härtere Haltung gegenüber Russland fordern. Das scheint jedoch unwahrscheinlich, nachdem kürzlich ein diplomatisches Abkommen unterzeichnet wurde, das darauf abzielt, den Konflikt in der Ukraine endgültig zu beenden.\n",
      " Friedensverhandlungen im Ukraine-Konflikt scheiterten, Truppenbewegungen setzen sich fort\n",
      "WASHINGTON (AHN) - Beide Seiten des Ukraine-Konflikts haben keine Einigung bei Friedensgesprächen erzielt, wie aus diplomatischen Kreisen am Mittwoch verlautete. Vertreter der ukrainischen Regierung und prorussischen Separatisten trafen sich in Minsk, Weißrussland, um den andauernden Konflikt zu diskutieren. Die Gespräche endeten ohne Ergebnis, da beide Seiten sich weigerten, aufeinander zuzugehen. Der Konflikt, der vor fast drei Jahren begann, hat Hunderte von Menschenleben gekostet und Millionen weiterer im Osten des Landes gestürzt. Mehrere Versuche zur Deeskalation sind bisher gescheitert.\n",
      " Tausende fliehen aus der Ostukraine, nachdem Kampfhandlungen zunehmen\n",
      "GENF (AHN) - Die Zahl der Binnenflüchtlinge aus der Ostukraine aufgrund zunehmender Kämpfe ist auf mehr als 37.000 gestiegen, so das UN-Flüchtlingshilfswerk (UNHCR). Der Großteil der Flüchtlinge sucht Schutz im Rest des Landes. \"Wir sehen einen Anstieg der Gewalt und der Vertreibung\", sagte ein UNHCR-Sprecher. \"Viele Zivilisten versuchen ihr Leben in Sicherheit zu bringen.\" Der Konflikt zwischen pro-russischen Separatisten und der ukrainischen Regierung eskalierte erneut in der Region Donbass.\n",
      " USA warnen vor russischer Aggression in der Ukraine\n",
      "MOSKAU/WASHINGTON (AHN) - Russland steht laut einem US-Regierungsvertreter kurz davor, militärische Aktionen gegen die Ukraine zu unternehmen. Moskau könnte \"vor Beginn der Fußball-Weltmeisterschaft im Juni eine größere Aggression beginnen\", sagte der Beamte am Montag. Russland hält Fußball-Weltmeisterschaften und andere internationale Ereignisse oft für politische Zwecke ab, bemerkte der US-Vertreter. Moskau hat wiederholt betont, dass es keine aggressiven Absichten gegenüber der Ukraine habe.\n",
      " Explosionen erschüttern Gebiete um Donezk\n",
      "DONEZK (AHN) - Laut Berichten detonierten am späten Dienstagabend mehrere Sprengsätze in der Nähe des Flughafens von Donezk, einer Stadt im Osten der Ukraine. Ein Sprecher der pro-russischen Separatisten behauptete, dass die Explosionen Teil einer ukrainischen Militärübung seien. Die ukrainische Regierung hat jedoch jede Beteiligung an dem Vorfall bestritten. Seit Ausbruch des Konflikts im Jahr 2014 haben verschiedene Gruppen wiederholt Raketenangriffe und Sprengstoffexplosionen in der ostukrainischen Region durchgeführt.\n",
      " Ukraine erlässt Visa-Regeln für Russen, die in das Land reisen möchten\n",
      "KIEW (AHN) - Die ukrainische Regierung hat angekündigt, dass russische Staatsbürger ab nächster Woche eine einfache Touristen-Visa für Reisen in die Ukraine erhalten können. Das neue Programm wurde vom Büro des Präsidenten und dem Innenministerium genehmigt und tritt am 1. Januar 2018 in Kraft. Seit der Annexion der Krim-Halbinsel durch Russland und dem Ausbruch des Konflikts im Donbass hat die ukrainische Regierung Visa-Bestimmungen für russische Bürger verschärft. Das neue einfache Visa-Programm soll Kiews wirtschaftliches Engagement mit Russland verbessern.\n",
      "Neuer Gouverneur für kontrollierten Teil des Donbass ernannt\n",
      "Donetsk - Die Regierung in Kiew hat einen neuen Gouverneur für den kontrollierten Teil des Gebiets Donbass ernannt. Pawlo Kyrylenko, ein langjähriger Parlamentsabgeordneter, wurde am Dienstag offiziell in sein Amt eingeführt. Er folgt auf Igor Kolomojskyj, der vor einem Jahr vom Posten zurückgetreten ist. Die Ernennung kommt zu einer besonders heiklen Zeit, da die Region mit anhaltenden Unruhen konfrontiert ist. Herr Kyrylenko sagte, er sei bereit, mit allen Beteiligten zusammenzuarbeiten, um Stabilität wiederherzustellen.\n",
      "Zehntausende nehmen an Pro-Europa-Marsch in Kiew teil\n",
      "Kiew - Zehntausende Menschen haben am Sonntag an einem Marsch für ein pro-europäisches Ukraine teilgenommen. Unter den Teilnehmern waren viele junge Menschen, die seit 2013/2014 pro-westliche Demonstrationen organisieren. Es war eine kraftvolle Botschaft an das internationale Geschäft, die inmitten eines wachsenden Drucks von Moskau für die Regierung in Kiew kam, ihren Kurs auf eine engere Anbindung an Europa beizubehalten. Der Marsch fand wenige Tage vor einem Gipfeltreffen von EU- und osteuropäischen Führern in Brüssel statt.\n",
      "Ukrainer halten Maidan-Vigil zur Erinnerung an Euromaidan-Proteste\n",
      "Kiew - Eine stille Vigil mit Kerzen und Transparenten hat am Mittwochabend Hunderte von Ukrainer auf dem zentralen Platz der Revolution von 2014 in Kiew versammelt - dem Maidan. Der jährliche Gottesdienst gedachte der vielen Menschen, die bei den Euromaidan-Protesten getötet wurden. Das Gedenk wurde am vierten Jahrestag der ersten blutigen Auseinandersetzungen auf dem Maidan abgehalten. Es war ein Moment des stillen Nachdenkens, aber auch ein Symbol für die Entschlossenheit der Ukrainer, ihre demokratischen Werte zu verteidigen.\n",
      "Ukraine meldet Fortschritte bei Korruptionsbekämpfung\n",
      "Kiew - Die Ukraine hat in ihrem Kampf gegen die weit verbreitete Korruption bedeutende Fortschritte gemacht, wie eine neue Regierungsbehörde angibt. Das Antikorruptionsbüro wurde im Mai letzten Jahres eingerichtet, um Korrupti on im Land zu bekämpfen. Seit seiner Gründung hat es mehrere hundert Ermittler tätig und hat bereits zahlreiche Verfahren eingeleitet. Der Chef des Büros, Artem Sytnyk, sagte, dass Korruption in der Ukraine zwar immer noch existiere, die Behörde jedoch \"wie ein Stein in einem Teich\" wirke - klein, aber mit Auswirkungen.\n",
      " Friedensgespräche in der Ukraine geplant - Vorbereitungen für bevorstehende Verhandlungen sind im Gange\n",
      "Kiew/Moskau - Vertreter aus der Ukraine und Russland haben vereinbart, noch in diesem Monat an den Verhandlungstisch zurückzukehren, um friedliche Lösungen für die laufenden Konflikte zu finden. Beide Seiten arbeiten aktiv daran, Voraussetzungen für ein erfolgreiches Treffen zu schaffen. Mehrere ukrainische Beamte zeigten sich hoffnungsvoll bezüglich des möglichen Erfolgs dieser Runde von Gesprächen. Der genaue Ort und Datum stehen noch nicht fest.\n",
      " Aufräumen nach dem Krieg - Gemeinde arbeitet zusammen, um Kriegsruinen abzureißen und wiederaufzubauen\n",
      "Charkiw - Als Reaktion auf die jüngsten russischen Aggressionen hat die Ukraine mit der Beseitigung von Kriegsschäden begonnen. Die Stadtverwaltung von Charkiw hat mehrere Bauprojekte angekündigt, mit Schwerpunkt auf Gebäuden, die durch Bombenangriffe schwer beschädigt wurden. Eines der Projekte beinhaltet den Wiederaufbau eines historischen Gebäudes im Zentrum der Stadt. Einheimische sind eingeladen, bei der Aufgabe zu helfen. Viele haben schon zugestimmt, Materialien oder Arbeitskraft bereitzustellen.\n",
      " Internationale Zusammenarbeit - G7 drückt Unterstützung für die Ukraine aus; weitere Sanktionen gegen Russland werden erwogen\n",
      "London - Delegierte aus den sieben wichtigsten Wirtschaftsnationen (G7) trafen sich zu einem zweitägigen Treffen in London, bei dem sie hauptsächlich über den Konflikt in der Ukraine sprachen. In einer gemeinsamen Erklärung verurteilten sie die aggressive Handlungen Moskaus und betonten ihre Solidarität mit der ukrainischen Bevölkerung. Zusätzlich wurde erwogen, die bereits vorhandenen Sanktionen gegen Russland zu verschärfen. Es wurden keine speziellen Einzelheiten genannt. Weitere Diskussionen sollen folgen.\n",
      " Durchbrüche in Technologie - Drohnentechnologie treibt Fortschritt der humanitären Hilfe in der Ukraine an\n",
      "Mykolayiv - Technologische Fortschritte haben den humanitären Einsatz in der Ukraine revolutioniert, da Hilfsorganisationen zunehmend Drohnen zur Lieferung von lebenswichtigen Gütern an weit entfernte Gebiete einsetzen. Das kleine Fluggerät hat einen großen Einfluss auf die Operationen gehabt, da es Transportmöglichkeiten erleichtert, die sonst unerreichbar wären. Diese neuen Taktiken ermöglichen es den Teams, gefährdete Regionen effizienter zu versorgen und dabei mehr Menschen zu erreichen.\n",
      " Kulturgüter bleiben sicher - Ukrainisches Kulturministerium stellt strenge Sicherheitsmaßnahmen sicher, um Artefakte während des Krieges zu schützen\n",
      "Kiew - Das Ukrainische Kulturministerium arbeitet rund um die Uhr daran, bedeutende kulturelle Gegenstände zu sichern, die aufgrund des anhaltenden Krieges gefährdet sein könnten. Zu den Maßnahmen gehören regelmäßige Kontrollen, Evakuierungen aus aktiven Kampfzonen sowie Lagerung in spezialisierten Einrichtungen. Das Ministerium hat auch internationale Unterstützung angefordert, um diese Anstrengungen fortzusetzen. Ein besonderer Schwerpunkt liegt darauf, die immateriellen Artefakte des Landes - wie Sprache und Bräuche - ebenfalls zu bewahren.\n",
      "Journalist\n",
      "Artikel 1: Friedensgespräche in der Ukraine fortgesetzt\n",
      "Am 16. Februar setzten Vertreter bewaffneter Gruppen im Osten der Ukraine und der ukrainische Präsident Wolodymyr Selenskyj die Friedensgespräche in Minsk fort. Dieses Treffen, das vom französischen und deutschen Außenminister geleitet wurde, zielt darauf ab, die Waffenstillstandsabkommen neu zu verhandeln und einen politischen Ausweg aus dem Konflikt zu finden. Beide Seiten äußerten optimistische Aussichten für den Abschluss einer Vereinbarung.\n",
      "Neutralitätssatzung tritt in Kraft\n",
      "Im Dezember hat die ukrainische Regierung die lang erwartete Neutralitätsgesetzgebung verabschiedet. Die Gesetzgebung besagt, dass die Ukraine keine militärische Allianz mit fremden Staaten eingehen und auch nicht Teil eines Militärbündnisses sein darf. Zuvor hatte Russland die Ukraine wiederholt aufgefordert, diese Schritte zur Sicherung ihrer Souveränität und territorialen Integrität zu unternehmen. Der westliche Diplomat begrüßte diesen Schritt und forderte die russische Seite auf, ihre Truppen von der Grenze abzuziehen.\n",
      "Investitionsschutz im Energiesektor\n",
      "Der stellvertretende Ministerpräsident und Wirtschaftsminister der Ukraine haben ein Abkommen mit einem Konsortium internationaler Finanzinstitute zur Unterstützung des Reform- und Modernisierungsprozesses im Energiesektor der Ukraine unterzeichnet. Ziel dieses Abkommens ist es, ausländische Investitionen anzuziehen und ausländisches Fachwissen einzubringen, um die Effizienz und Sicherheit des Stromnetzes der Ukraine zu verbessern. Das Abkommen betont die Bedeutung der Umsetzung von Maßnahmen zur Gewährleistung des Investitionsschutzes.\n",
      "Erfolgreiche Landwirtschaft in der Ukraine\n",
      "Trotz des andauernden Konflikts bleibt die Landwirtschaft in der Ostukraine robust. Im Jahr 2019 hat die Ukraine eine Rekordernte von 73 Millionen Tonnen Getreide eingefahren - hauptsächlich Mais und Weizen. Die Regierung arbeitet aktiv daran, die Bedingungen für landwirtschaftliche Betriebe zu verbessern, indem sie Steuervergünstigungen bereitstellt, Anreize für Investitionen in moderne Ausrüstung schafft und den Zugang zu Märkten verbessert. Diese Fortschritte sind entscheidend für die Lebensmittelversorgungssicherheit der Ukraine sowie für die wirtschaftliche Stabilität des Landes.\n",
      "Diplomatie statt Konfrontation im Konflikt um geteilte Inseln\n",
      "Japan hat kürzlich wiederholt sein Interesse an der Entsendung von Friedenstruppen zur Überwachung eines maritimen Abkommens mit Russland bekräftigt, das darauf abzielt, die Spannungen im umstrittenen Gebiet zu deeskalieren. Obwohl Russland das ursprüngliche Abkommen unterzeichnete, lehnt es jetzt die Vorstellung ab, japanische Soldaten auf der anderen Seite des Straße von Laura anzutreffen.\n",
      "Ukrainisches Parlament beschließt Einberufung von Reservisten\n",
      "In einem überraschenden Schritt hat das ukrainische Parlament Gesetze verabschiedet, die darauf abzielen, Reservisten in die Streitkräfte einzuberufen. Der Schritt kommt zu einer Zeit erhöhter Spannungen mit Russland und markiert möglicherweise eine Verschiebung in der Positionierung der Ukraine gegenüber Moskau. Es bleibt abzuwarten, ob die Maßnahme in einer konventionellen Mobilmachung resultieren wird.\n",
      "Ukraine drängt auf stärkeren internationalen Handel\n",
      "Es besteht wenig Zweifel daran, dass der Kreml versucht, die Wirtschaft der Ukraine zu schwächen und ihre Fähigkeit zur Selbstverteidigung zu verringern. Dementsprechend betont Kiew, wie wichtig es ist, starke Handelsbeziehungen mit dem Westen aufzubauen und Verbindungen zu Russland zurückzufahren. Mehrere Handelsverträge stehen kurz vor dem Abschluss.\n",
      "Internationale Überprüfung zeigt Fortschritte im Atomsektor\n",
      "Eine internationale Delegation hat kürzlich einen positiven Bericht über den Zustand der ukrainischen Atomanlagen veröffentlicht und erklärt, dass das Land bedeutende Verbesserungen seiner nuklearen Sicherheit erreicht hat. Der Bericht kommt zu einer besonders kritischen Zeit, da Russland immer noch versucht, politischen Druck auf die Ukraine auszuüben, um den Kurs des Landes in Bezug auf seine Energiepolitik zu beeinflussen.\n",
      "Die Ukraine beendet nach fünf Jahren die Betriebsführung des Kernkraftwerks Chmelnyzkyj\n",
      "Nach einer langen Debatte hat das ukrainische Parlament einen Gesetzesentwurf verabschiedet, der den Betreibervertrag mit dem tschechischen Unternehmen DTEK für das Kernkraftwerk Chmelnyzkyj in der Westukraine nicht verlängert. Das Kraftwerk wurde ursprünglich 1986 unter sowjetischer Herrschaft errichtet und war seit seiner Inbetriebnahme im Jahr 1987 in Betrieb. Die Entscheidung, den Vertrag nicht zu verlängern, stieß bei Beamten und Bürgern auf unterschiedliche Meinungen. Während einige sie als notwendigen Schritt zur Entwicklung eines selbstständigen nationalen Energie-Sektors feierten, betrachteten andere sie als rücksichtsloses Ende eines erfolgreichen Unternehmens. Der Leiter von DTEK gab an, dass es Pläne für weitere Investitionen in das Kraftwerk gegeben habe und bedauerte die Entscheidung. Quelle: CNN\n",
      "Der Einfluss des Präsidenten der Ukraine auf das Parlament nimmt ab\n",
      "In der letzten Woche haben Berater von Volodymyr Zelenskys Fraktion bekanntgegeben, dass der Einfluss des Präsidenten auf die Meinungsbildung innerhalb der Fraktion erheblich abgenommen hat. Dies steht im Gegensatz zu früheren Aussagen der Fraktion über die starke Unterstützung durch den Präsidenten. Obwohl der Präsident weiterhin eine überwältigende Mehrheit der Unterstützung innerhalb des Parlaments genießt, zeigt dies einen Mangel an Einfluss seit seinem Amtsantritt vor zwei Jahren. Verschiedene Faktoren tragen zum Rückgang seines Einflusses bei, darunter seine sinkende Beliebtheit aufgrund wirtschaftlicher Probleme sowie der zunehmende Widerstand seiner Gegner innerhalb des Parlaments. Quelle: Reuters\n",
      "Die Ukraine macht Fortschritte im Kampf gegen Korruption\n",
      "Die Regierung der Ukraine hat Fortschritte bei ihrem Ziel gemeldet, die Korruption im Land zu reduzieren. Ein neues Gesetz, das kürzlich vom Parlament verabschiedet wurde, ermöglicht es der Generalstaatsanwaltschaft, Sonderermittler einzusetzen, um Verdächtige des großen Maßstabes für Wirtschaftsverbrechen zu untersuchen. Dieser Ermittlungsausschuss wird ausschließlich der Generalstaatsanwaltschaft unterstellt und wird direkt dem Parlament berichten. Kritiker argumentieren, dass dieses neue Gesetz den Ermittlungsbehörden mehr Unabhängigkeit gewährt und somit einen positiven Einfluss auf die Bemühungen der Regierung im Kampf gegen Korruption haben wird. Quelle: BBC\n",
      "Ein internationales Filmfestival findet in der Ukraine statt\n",
      "Trotz des andauernden Krieges im Osten des Landes wird in Kiew ein internationales Filmfestival veranstaltet, das Künstler und Filmliebhaber aus aller Welt zusammenbringt. Das Festival konzentriert sich auf osteuropäische Filme, mit einem besonderen Schwerpunkt auf denen aus der Ukraine. Neben den Filmvorführungen bietet das Festival auch Workshops, Podiumsdiskussionen und Meisterklassen an, die Regisseure, Schauspieler und andere Fachleute zusammenbringen sollen. Seine Bedeutung geht jedoch weit über die filmische Leistung hinaus; es dient als starkes Symbol für die Widerstandsfähigkeit und Kreativität der ukrainischen Kultur in schwierigen Zeiten. Quelle: The Guardian\n",
      "Zweihunderttausend Flüchtlinge erhalten Hilfe in der Ukraine\n",
      "Die Internationale Organisation für Migration (IOM) hat angekündigt, dass sie in diesem Jahr fast zweihunderttausend Flüchtlingen in der Ukraine Nothilfe geleistet hat. Die meisten waren Geflüchtete aus der Ukraine, die vor Konflikten und Verfolgung im eigenen Land geflohen sind, aber das IOM hat auch Flüchtlinge aus anderen Teilen der Welt betreut, die durch Krieg und Krise vertrieben wurden. Diese Nothilfe umfasst finanzielle Unterstützung, Wohnraum, medizinische Versorgung und rechtliche Dienstleistungen, um ihnen bei der Genesung und beim Neuanfang zu helfen. Das IOM bemüht sich aktiv darum, die Ursachen für Flucht und Vertreibung zu bekämpfen und ist bestrebt, allen, die ihre Hilfe benötigen, Unterkunft und Schutz zu bieten. Quelle: IOM\n",
      "Es war eine überraschende Ankündigung im Weißen Haus. Präsident Biden verkündete am Donnerstag, dass die Vereinigten Staaten zusätzliche $800 Millionen an Militärhilfe für die Ukraine bereitstellen würden - genug, um \"die ukrainische Armee bis in den Herbst hinein\" auszustatten, wie er sagte. Die Entscheidung kommt nur Tage, nachdem Verteidigungsminister Lloyd Austin bei einem Treffen mit seinem ukrainischen Kollegen Oleksii Reznikov Washingtons Engagement für Kiews Verteidigung gegen Russlands aggressive Truppen betont hat. Der Präsident nannte es einen klaren Fall von \"Führungsrolle\" in einer weltweiten Auseinandersetzung. \n",
      "Von einem regionalen Gipfeltreffen mit der NATO in Ramstein aus meldete sich ein sichtlich bewegter General Mark Milley zu Wort. \"Wir sind hier, um unseren ukrainischen Brüdern und Schwestern unsere uneingeschränkte Solidarität und Unterstützung zu demonstrieren\", erklärte der Vorsitzende des Joint Chiefs of Staff. Trotz jüngster Berichte über zunehmende Spannungen zwischen dem Pentagon und Kiew zeigte Milley Einigkeit mit seinen ukrainischen Kollegen. \"Wir stehen in voller Solidarität und Partnerschaft mit der Ukraine, um ihr Territorium und ihre souveräne Integrität zu verteidigen.\", sagte er während seiner Rede auf dem Gipfel.\n",
      "Proteste für Freiheit breiten sich in der Ukraine aus\n",
      "Tausende Menschen haben am Samstag erneut auf den Straßen der ukrainischen Städte demonstriert und ihren Unmut über die Regierung zum Ausdruck gebracht. Die Teilnehmer forderten verfassungsmäßige Reformen sowie mehr Rechte und Freiheiten für alle Ukrainer. Demonstranten weder pro-westlich noch pro-russisch\". Sie fordern einfach bessere Regierungsführung und mehr Gerechtigkeit\", sagte Jurij Yakymenko, ein Demonstrant aus Kiew. Der Präsident der Ukraine, Viktor Janukowitsch, hat zugesagt, sich mit der Opposition zu treffen, um Frieden zu schließen und eine Lösung zu finden.\\n\\n--------------------\\nZeitungsartikel 2: Unruhen halten die Ukraine weiterhin in Atem\n",
      "Gewaltsame Auseinandersetzungen zwischen Polizei und Demonstranten fanden am Sonntagabend in der Hauptstadt der Ukraine statt. Ein Dutzend Menschen wurden verletzt, darunter drei Polizisten, berichtete die Staatsanwaltschaft. Seit über einer Woche gehen die Menschen in der Ukraine auf die Straße, um einen grundlegenden Wandel in ihrem Land zu fordern. Viele sehen die Ukraine derzeit als zutiefst korrupt an und wollen eine engere Beziehung zur EU. Beide Seiten sind entschlossen, ihren Standpunkt durchzusetzen und es herrscht keine schnelle Lösung in Sicht.\\n\\n-----------------------\\nZeitungsartikel 3: Janukowytsch stimmt Kompromissvereinbarung mit der Opposition zu\n",
      "Nach mehreren Tagen zunehmender Spannungen in der Ukraine hat der Präsident des Landes, Viktor Janukowytsch, einer Vereinbarung mit der Opposition zugestimmt, um gewalttätige Konfrontationen zu vermeiden. Das Abkommen sieht vor, dass die Regierung bis April rechtliche und Verfassungsreformen durchführen wird. Es beinhaltet auch eine Dezentralisierung bestimmter Entscheidungsprozesse. Der Anführer der größten Oppositionspartei, Vitali Klitschko, nannte die Vereinbarung einen \"historischen Moment\" und betonte, dass \"die Ukraine eine Chance hat, ihre Krise zu überwinden und wieder Hoffnung zu geben.\"\\n\\n------------------------\\nZeitungsartikel 4: Massive Anti-Regierungs-Proteste setzen sich in der Ukraine fort\n",
      "Die Ukraine hat eine achte Millionenmetropole am Montag wegen massiver Anti-Regierungs-Proteste lahmgelegt. In Kiew marschierten Zehntausende von Menschen durch die Stadt und blockierten wichtige Kreuzungen, was dazu führte, dass der öffentliche Nahverkehr und private Autos stundenlang im Verkehr stecken blieben. Auch in anderen Städten im ganzen Land gab es große Protestaktionen, da Bürger ihren Ärger über die Regierung zum Ausdruck brachten und Veränderungen forderten. Unter den Demonstranten waren Studenten, Arbeiter und Intellektuelle, die zusammen auf die Straße gingen, um sich gegen die aktuelle Führung zu wenden.\\n\\n------------------------------\\nZeitungsartikel 5: Internationale Vermittler besorgt über Lage in der Ukraine\n",
      "Die Organisation für Sicherheit und Zusammenarbeit in Europa (OSZE) hat sich zunehmend besorgt über die Situation in der Ukraine geäußert. OSZE-Generalsekretär Lamberto Zannier erklärte, dass \"intensive Gespräche\" mit verschiedenen ukrainischen Parteien notwendig seien, um Gewalt zu reduzieren und eine friedliche Lösung zu finden. Er hofft, bald eine Mission nach Kiew zu entsenden, um an dem Problem zu arbeiten. Neben der OSZE hat auch UN-Generalsekretär Ban Ki Moon seine Besorgnis über die Situation in der Ukraine zum Ausdruck gebracht und drängt auf Dialog und gewaltlose Lösungen.\\n\\n---------------------------\n",
      "In der Ukraine haben Behörden Verstöße gegen Datenschutzgesetze festgestellt, was Bedenken bezüglich möglicher Sicherheitslücken aufwirft. Laut dem Pressedienst des ukrainischen Innenministeriums wurden sensible Daten wie Passwörter, Kontakte und Standorte von Anwendungen für Telefone und soziale Medien sowie vertrauliche Informationen über Unternehmens- und Regierungsvertreter frei zugänglich auf Cloud-Servern gefunden. Die Entscheidungsträger versicherten, dass unverzügliche Maßnahmen ergriffen würden, um solche Risiken zu minimieren und die Privatsphäre der Bürger zu schützen.\n",
      "Mit Russlands anhaltender Aggression im Osten der Ukraine und den jüngsten Spannungen am Schwarzen Meer hat Kiew sein Militärbudget auf ein Rekordniveau erhöht. Das ukrainische Parlament verabschiedete kürzlich einen Haushaltsplan, der eine Erhöhung des Verteidigungsetats um fast 7% gegenüber dem Vorjahr vorsieht. Dies kommt zu einer bereits signifikanten Aufwärtstendenz inmitten eines umfassenderen Plans zur Modernisierung der Streitkräfte und der Schaffung neuer Einheiten. Befürworter argumentieren, dass angesichts externer Bedrohungen größere Ausgaben für Landesverteidigung notwendig sind.\n",
      "Eine kürzlich durchgeführte Studie zeigt, dass immer mehr ausländische Unternehmen Interesse daran haben, in der Ukraine zu investieren. Laut der Umfrage unter multinationalen Konzernen gaben drei Viertel der Teilnehmer an, dass die Ukraine ein attraktiver Standort für ihr Geschäft bleibe, trotz anhaltender politischer Unsicherheit. Die Mehrheit der Antwortenden bezeichnen weiterhin Kosteneinsparungen, Zugang zu einem großen Markt und ein reichlich vorhandenes Talentpool als Hauptmotivatoren für Investitionen auf ihrem Gebiet. Die Regierung hat ihre Politik zur Förderung ausländischer Direktinvestitionen kürzlich verschärft.\n",
      "Kritiker werfen Präsident Volodymyr Selenskyj vor, die Rechtsstaatlichkeit bei seinen Bemühungen, den von russlandgestützten Separatisten gehaltenen Donbass zurückzuerobern, zu opfern. Menschenrechtsorganisationen beschuldigen ukrainische Behörden, dunkle Zahlen bei Festnahmen und Verhaftungen während Anti-Kriegsprotesten zu betreiben. Dazu kommen Vorwürfe der Folter gegen Personen, die mit pro-russischen Kräften in Verbindung gebracht werden. Der ukrainische Präsident hat wiederholt betont, dass sein Land ein fester Bestandteil der zivilisierten Welt bleibt; Vertreter von NGOs weisen jedoch darauf hin, dass diese Taktik kontraproduktiv für Kiews internationalen Ruf sein könnte.\n",
      "Nachdem der Kreml neue Forderungen nach einer Neutralität der Ukraine aufgestellt hat, fordern westliche Verbündete Kiew auf, standhaft zu bleiben. Moskau muss seine Truppen aus der gesamten Ukraine abziehen, damit Friedensgespräche beginnen können, sagte NATO-Generalsekretär Jens Stoltenberg kürzlich. Das Weiße Haus warnte Kiew ebenfalls davor, Kompromisse bei grundlegenden Prinzipien einzugehen. Trotz intensiven diplomatischen Drucks auf beiden Seiten scheinen die Frontlinien im Donbas weitgehend stationär zu sein. Es gibt widersprüchliche Signale darüber, ob beide Seiten ernsthaft an einer vollständigen Waffenruhe interessiert sind.\n",
      "Eine Gruppe ukrainischer Soldaten wurde mit einer unbekannten Krankheit ins Krankenhaus eingeliefert, berichtete der Gouverneur des Gebiets. Es wurde später festgestellt, dass es sich um eine Herzerkrankung handelte, was zu Spekulationen führte, ob diese durch die Waffen eingesetzt wurden, die aus den Vereinigten Staaten geliefert wurden. Diese Angelegenheit muss noch untersucht werden.\n",
      "In einer beispiellosen Show von Einigkeit haben ukrainische Politiker parteiübergreifend die von Präsident Selenskyj initiierten friedlichen Verhandlungen unterstützt. Unterdessen gibt es in der sogenannten \"Volksrepublik Donezk\" weiterhin Spannungen zwischen prorussischen Separatisten und pro-ukrainischen Kräften. Die Ukraine setzt ihre diplomatischen Bemühungen fort, um Frieden an der Grenze zu erreichen.\n",
      "Während die Welt auf die Situation am Rand der Ukraine achtet, wurden in Kiew seit Beginn des Konflikts im Jahr 2014 insgesamt 3.682 Waffenverbrechen dokumentiert. Dies sind Verbrechen wie Mord, Folter, Entführung und Brandstiftung, die von allen Konfliktparteien begangen wurden. Eine vollständige Liste dieser Verbrechen finden Sie auf der Website des Menschenrechtsrates der Ukraine.\n",
      "Trotz der anhaltenden Spannungen hat die Zentralbank der Ukraine ihre Vorhersagen für das Wirtschaftswachstum in diesem Jahr bestätigt. Der Grund für die Zuversicht liegt darin, dass die Regierung weiterhin robuste Reformen implementiert, die darauf abzielen, die Transparenz zu erhöhen, die Korruption zu reduzieren und das Geschäftsumfeld zu verbessern.\n",
      "Führungspersonal des Innenministeriums der Ukraine trafen sich mit ihren amerikanischen Kollegen, um Pläne zur Verbesserung der Strafverfolgungskapazitäten der Ukraine zu diskutieren. Dazu gehören Maßnahmen zur Verbesserung der Bekämpfung von Cybercrime sowie der Zugang der Ukraine zu High-Tech-Überwachungstechnologie, um schwerwiegende Kriminalität zu verhindern.\n",
      " Friedensverhandlungen zwischen der Ukraine und Separatisten im Donbass geplant\n",
      "Nach Monaten erhöhter Spannungen haben Vertreter der Ukraine und pro-russischer Separatisten Verhandlungen über eine friedliche Beilegung des Konflikts vereinbart.\n",
      "Weiterlesen...\n",
      " Ukrainischer Präsident Poroschenko fordert stärkere Sanktionen gegen Russland\n",
      "In einer Rede an der Sorbonne Universität in Paris hat der Präsident der Ukraine, Petro Poroschenko, eine Verschärfung der Sanktionen gegen Russland gefordert.\n",
      "Weiterlesen...\n",
      " Große Protestdemonstration in Kiew zur Unterstützung des ukrainischen Militärs\n",
      "Tausende Menschen haben am Sonntag in Kiew demonstriert, um ihre Unterstützung für das ukrainische Militär zu zeigen, das derzeit Gefechte mit prorussischen Rebellen in der Ostukraine führt.\n",
      "Weiterlesen...\n",
      " Zunahme der humanitären Hilfeleistungen durch internationale Organisationen in der Ukraine\n",
      "Internationale Hilfsorganisationen haben angegeben, dass sie aufgrund der anhaltenden Krise in der Ostukraine eine gesteigerte Bereitschaft zur humanitären Hilfeleistung verzeichnen.\n",
      "Krieg in der Ukraine: Ein neuer Konflikt im Osten\n",
      "Der Krieg in der Ukraine eskaliert erneut. Regierungs- und Rebellenstellungen berichten beide von schwerem Artilleriebeschuss und Gefechten in der Region Donezk. Die jüngsten Kämpfe sind die schwersten seit einem Waffenstillstand im Jahr 2015.\n",
      "Nach Angaben der ukrainischen Armee haben sie schwere Verluste erlitten, mit mindestens 30 getöteten Soldaten in den ersten Stunden des neuen Jahres. Der Rebellenführer Alexander Zacharchenko sagte hingegen, dass seine Streitkräfte mehrere ukrainische Positionen übernommen hätten und seien bereit für einen größeren Angriff.\n",
      "Es gibt wachsende Besorgnis, dass dieser neue Ausbruch von Gewalt zu einem vollständigen Zusammenbruch des Waffenstillstands führen könnte und möglicherweise weitere Gebiete in der Region betreffen könnte. International hat der Konflikt weitgehende Kritik auf beiden Seiten gefunden, wobei viele den Einsatz russischer Truppen vor Ort beschuldigen.\n",
      "Moskau lehnt solche Berichte jedoch ab und behauptet, dass sie keine offiziellen Truppen in der Region haben. Es bleibt abzuwarten, wie weit der neu erworbene Fähigkeit zur Kriegsführung die Konfliktparteien im Donbass treiben können und welche Rolle Moskau dabei spielt.\n",
      "Für die Menschen in der Region bleibt die Situation äußerst unsicher. Hunderttausende wurden bereits aus ihren Häusern vertrieben und viele haben nur begrenzten Zugang zu grundlegenden Dienstleistungen wie Wasser, Gas und Strom. Mit dem erneuten Aufkommen der Gewalt steigt die Angst, dass sich dies bald ändern wird.\n"
     ]
    }
   ],
   "source": [
    "sentences_to_remove_from_l2 = choose_sentence_to_delete(l1, l2, similar_pairs)\n",
    "\n",
    "filtered_l2 = [l2[i] for i in range(num_sentences_l2) if i not in sentences_to_remove_from_l2]\n",
    "\n",
    "# Display filtered sentences from l2\n",
    "print(\"\\nFiltered sentences from list 2:\")\n",
    "for sentence in filtered_l2:\n",
    "    print(sentence)"
   ]
  },
  {
   "cell_type": "code",
   "execution_count": 84,
   "metadata": {},
   "outputs": [],
   "source": [
    "newdf = pd.DataFrame(filt, columns=['text'])\n",
    "newdf.to_csv('../Ergebnisse/Generated/leolm/Neg/ukr_neg_v2_70t.csv')"
   ]
  }
 ],
 "metadata": {
  "kernelspec": {
   "display_name": "Python 3",
   "language": "python",
   "name": "python3"
  },
  "language_info": {
   "codemirror_mode": {
    "name": "ipython",
    "version": 3
   },
   "file_extension": ".py",
   "mimetype": "text/x-python",
   "name": "python",
   "nbconvert_exporter": "python",
   "pygments_lexer": "ipython3",
   "version": "3.11.3"
  }
 },
 "nbformat": 4,
 "nbformat_minor": 2
}
