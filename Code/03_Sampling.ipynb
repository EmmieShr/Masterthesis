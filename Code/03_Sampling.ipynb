{
 "cells": [
  {
   "cell_type": "code",
   "execution_count": 1,
   "metadata": {},
   "outputs": [],
   "source": [
    "import pandas as pd\n",
    "import re"
   ]
  },
  {
   "cell_type": "code",
   "execution_count": 2,
   "metadata": {},
   "outputs": [],
   "source": [
    "mig = pd.read_csv('../Masked Data/migrant_masked.csv')\n",
    "ukr = pd.read_csv('../Masked Data/ukraine_masked.csv')\n",
    "tur = pd.read_csv('../Masked Data/türkei_masked.csv')\n",
    "syr = pd.read_csv('../Masked Data/syrien_masked.csv')\n",
    "som = pd.read_csv('../Masked Data/somalia_masked.csv')\n",
    "afg = pd.read_csv('../Masked Data/afghanistan_masked.csv')\n",
    "flu = pd.read_csv('../Masked Data/flüchtling_masked.csv')"
   ]
  },
  {
   "cell_type": "code",
   "execution_count": 236,
   "metadata": {},
   "outputs": [],
   "source": [
    "df1 = mig[mig.outlet == 'national'].sample(4)\n",
    "df2 = mig[mig.outlet == 'regional'].sample(4)\n",
    "df3 = mig[mig.outlet == 'right'].sample(4)\n",
    "df4 = mig[mig.outlet == 'left'].sample(3)\n",
    "\n",
    "df5 = ukr[ukr.outlet == 'national'].sample(4)\n",
    "df6 = ukr[ukr.outlet == 'regional'].sample(4)\n",
    "df7 = ukr[ukr.outlet == 'right'].sample(3)\n",
    "df8 = ukr[ukr.outlet == 'left'].sample(3)\n",
    "\n",
    "df9 = tur[tur.outlet == 'national'].sample(4)\n",
    "df10 = tur[tur.outlet == 'regional'].sample(4)\n",
    "df11 = tur[tur.outlet == 'right'].sample(3)\n",
    "df12 = tur[tur.outlet == 'left'].sample(3)\n",
    "\n",
    "df13 = syr[syr.outlet == 'national'].sample(4)\n",
    "df14 = syr[syr.outlet == 'regional'].sample(4)\n",
    "df15 = syr[syr.outlet == 'right'].sample(3)\n",
    "df16 = syr[syr.outlet == 'left'].sample(3)\n",
    "\n",
    "df17 = flu[flu.outlet == 'national'].sample(4)\n",
    "df18 = flu[flu.outlet == 'regional'].sample(4)\n",
    "df19 = flu[flu.outlet == 'right'].sample(4)\n",
    "df20 = flu[flu.outlet == 'left'].sample(3)\n",
    "\n",
    "df21 = som[som.outlet == 'national'].sample(5)\n",
    "df22 = som[som.outlet == 'regional'].sample(5)\n",
    "df23 = som[som.outlet == 'right'].sample(4)\n",
    "df24 = som[som.outlet == 'left'].sample(0)\n",
    "\n",
    "df25 = afg[afg.outlet == 'national'].sample(4)\n",
    "df26 = afg[afg.outlet == 'regional'].sample(4)\n",
    "df27 = afg[afg.outlet == 'right'].sample(3)\n",
    "df28 = afg[afg.outlet == 'left'].sample(3)"
   ]
  },
  {
   "cell_type": "code",
   "execution_count": 237,
   "metadata": {},
   "outputs": [],
   "source": [
    "sample3 = pd.concat([df1, df2, df3, df4, df5, df6, df7, df8, df9, df10, df11, df12, df13, df14, df15, df16, df17, df18, df19, df20, df21, df22, df23, df24, df25, df26, df27, df28])\n",
    "sample3 =sample3.sample(frac=1).reset_index(drop=True)\n",
    "sample3.to_csv('../Samples/Full Samples/sample3_full.csv')"
   ]
  },
  {
   "cell_type": "code",
   "execution_count": 205,
   "metadata": {},
   "outputs": [
    {
     "data": {
      "text/plain": [
       "(100, 7)"
      ]
     },
     "execution_count": 205,
     "metadata": {},
     "output_type": "execute_result"
    }
   ],
   "source": [
    "sample17.shape"
   ]
  },
  {
   "cell_type": "code",
   "execution_count": 238,
   "metadata": {},
   "outputs": [],
   "source": [
    "sample3_filter = sample3[['_id', 'masked']]\n",
    "sample3_filter.to_csv('../Samples/sample3.csv')"
   ]
  },
  {
   "cell_type": "code",
   "execution_count": 235,
   "metadata": {},
   "outputs": [],
   "source": [
    "ids1 = sample1['Unnamed: 0'].unique().tolist()\n",
    "ids2 = sample2['Unnamed: 0'].unique().tolist()\n",
    "ids3 = sample3['Unnamed: 0'].unique().tolist()\n",
    "ids4 = sample4['Unnamed: 0'].unique().tolist()\n",
    "ids5 = sample5['Unnamed: 0'].unique().tolist()\n",
    "ids6 = sample6['Unnamed: 0'].unique().tolist()\n",
    "ids7 = sample7['Unnamed: 0'].unique().tolist()\n",
    "ids8 = sample8['Unnamed: 0'].unique().tolist()\n",
    "ids9 = sample9['Unnamed: 0'].unique().tolist()\n",
    "ids10 = sample10['Unnamed: 0'].unique().tolist()\n",
    "ids11 = sample11['Unnamed: 0'].unique().tolist()\n",
    "ids12 = sample12['Unnamed: 0'].unique().tolist()\n",
    "ids13 = sample13['Unnamed: 0'].unique().tolist()\n",
    "ids14 = sample14['Unnamed: 0'].unique().tolist()\n",
    "ids15 = sample15['Unnamed: 0'].unique().tolist()\n",
    "ids16 = sample16['Unnamed: 0'].unique().tolist()\n",
    "ids17 = sample17['Unnamed: 0'].unique().tolist()\n",
    "ids18 = sample18['Unnamed: 0'].unique().tolist()\n",
    "ids19 = sample19['Unnamed: 0'].unique().tolist()\n",
    "ids20 = sample20['Unnamed: 0'].unique().tolist()\n",
    "\n",
    "ids = [60302, 3136, 20170, 63078, 56507, 4965, 474, 6912, 11448,228, 56760, 2476, 575, 6372, 1119, 83, 57139, 18185, 56856, 1003, 2695, 1501, 1270, 22263, 532, 430, 62391, 3037]\n",
    "ids_to_remove= ids + ids1 + ids2 + ids3 + ids4 +ids5 + ids6 +ids7 +ids8 +ids9 +ids10 +ids11 +ids12 +ids13 +ids14 +ids15 +ids16 +ids17 +ids18 +ids19 +ids20\n",
    "\n",
    "mig = mig[~mig['Unnamed: 0'].isin(ids_to_remove)]\n",
    "ukr = ukr[~ukr['Unnamed: 0'].isin(ids_to_remove)]\n",
    "tur = tur[~tur['Unnamed: 0'].isin(ids_to_remove)]\n",
    "syr = syr[~syr['Unnamed: 0'].isin(ids_to_remove)]\n",
    "som = som[~som['Unnamed: 0'].isin(ids_to_remove)]\n",
    "afg = afg[~afg['Unnamed: 0'].isin(ids_to_remove)]\n",
    "flu = flu[~flu['Unnamed: 0'].isin(ids_to_remove)]\n"
   ]
  },
  {
   "cell_type": "code",
   "execution_count": 169,
   "metadata": {},
   "outputs": [],
   "source": [
    "# ids1 = sample1['_id'].unique().tolist()\n",
    "# ids2 = sample2['_id'].unique().tolist()\n",
    "# ids3 = sample3['_id'].unique().tolist()\n",
    "# ids4 = sample4['_id'].unique().tolist()\n",
    "# ids5 = sample5['_id'].unique().tolist()\n",
    "# ids6 = sample6['_id'].unique().tolist()\n",
    "# ids7 = sample7['_id'].unique().tolist()\n",
    "# ids8 = sample8['_id'].unique().tolist()\n",
    "# ids9 = sample9['_id'].unique().tolist()\n",
    "\n",
    "ids = ['6327128f3dd49b919c121751', '632712903dd49b919c12cb35', '632712913dd49b919c1347a1']\n",
    "ids_to_remove= ids #+ ids1 #+ ids2 #+ ids3 #+ ids4 #+ids5 #+ ids6 #+ids7 #+ids8 #+ids9\n",
    "\n",
    "mig = mig[~mig['_id'].isin(ids_to_remove)]\n",
    "ukr = ukr[~ukr['_id'].isin(ids_to_remove)]\n",
    "tur = tur[~tur['_id'].isin(ids_to_remove)]\n",
    "syr = syr[~syr['_id'].isin(ids_to_remove)]\n",
    "#ita = ita[~ita['_id'].isin(ids_to_remove)]\n",
    "som = som[~som['_id'].isin(ids_to_remove)]\n",
    "afg = afg[~afg['_id'].isin(ids_to_remove)]\n",
    "flu = flu[~flu['_id'].isin(ids_to_remove)]"
   ]
  },
  {
   "cell_type": "code",
   "execution_count": 225,
   "metadata": {},
   "outputs": [],
   "source": [
    "sample20.to_csv('../Samples/Full Samples/sample20_full.csv')"
   ]
  }
 ],
 "metadata": {
  "kernelspec": {
   "display_name": "Python 3",
   "language": "python",
   "name": "python3"
  },
  "language_info": {
   "codemirror_mode": {
    "name": "ipython",
    "version": 3
   },
   "file_extension": ".py",
   "mimetype": "text/x-python",
   "name": "python",
   "nbconvert_exporter": "python",
   "pygments_lexer": "ipython3",
   "version": "3.11.3"
  }
 },
 "nbformat": 4,
 "nbformat_minor": 2
}
